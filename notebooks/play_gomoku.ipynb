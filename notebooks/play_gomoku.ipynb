{
 "cells": [
  {
   "cell_type": "code",
   "execution_count": null,
   "metadata": {},
   "outputs": [],
   "source": [
    "import os\n",
    "os.environ['CUDA_VISIBLE_DEVICES'] = '3'"
   ]
  },
  {
   "cell_type": "code",
   "execution_count": null,
   "metadata": {},
   "outputs": [],
   "source": [
    "%matplotlib notebook\n",
    "import matplotlib.pyplot as plt\n",
    "\n",
    "import sys\n",
    "sys.path.append('..')\n",
    "import numpy as np\n",
    "from src.game import Board, Game\n",
    "from src.policy_value_net_tensorflow import PolicyValueNet\n",
    "from src.mcts_pure import MCTSPlayer as MCTS_Pure\n",
    "from src.mcts_alphaZero import MCTSPlayer\n",
    "from src import results_dir"
   ]
  },
  {
   "cell_type": "code",
   "execution_count": null,
   "metadata": {},
   "outputs": [],
   "source": [
    "n = 4\n",
    "width, height = 6, 6\n",
    "start_player = 1\n",
    "\n",
    "model_file = os.path.join(results_dir, \"zero_17_4_15:36\", \"policy_1500.model\")\n",
    "\n",
    "board = Board(width=width, height=height, n_in_row=n)\n",
    "game = Game(board)\n",
    "\n",
    "best_policy = PolicyValueNet(width, height, model_file=model_file)\n",
    "ai = MCTSPlayer(best_policy.policy_value_fn, c_puct=5, n_playout=400)"
   ]
  },
  {
   "cell_type": "code",
   "execution_count": null,
   "metadata": {},
   "outputs": [],
   "source": [
    "fig = plt.figure(figsize=(6,6))\n",
    "ax = fig.add_subplot(111)\n",
    "ax.set_xlim([0, 5])\n",
    "ax.set_ylim([0, 5])\n",
    "ax.grid(c='k')\n",
    "ax.tick_params(axis='both', which='major', pad=15)\n",
    "\n",
    "fig.canvas.draw()\n",
    "board.init_board(start_player)\n",
    "\n",
    "def tellme(s):\n",
    "    ax.set_title(s, fontsize=16, y=1.05)\n",
    "    fig.canvas.draw()\n",
    "\n",
    "def onclick(event):    \n",
    "    y = int(np.round(event.xdata))\n",
    "    x = int(np.round(event.ydata))\n",
    "    \n",
    "    ax.plot(y, x, 'o', ms=30, color='k', mec='k', zorder=100, clip_on=False)\n",
    "    fig.canvas.draw()\n",
    "    \n",
    "    x_ = (5 - x)\n",
    "    move = board.location_to_move((x_, y))\n",
    "    if move not in board.availables:\n",
    "        tellme(\"Invalid move, try again..\")\n",
    "        return\n",
    "\n",
    "    board.do_move(move)\n",
    "    end, winner = board.game_end()\n",
    "    if end:\n",
    "        if winner != -1:\n",
    "            tellme(\"Game over. You won!\")\n",
    "        else:\n",
    "            tellme(\"Game end. Tie\")\n",
    "    else:\n",
    "        tellme(\"The AI is thinking...\")\n",
    "\n",
    "        move = ai.get_action(board)\n",
    "        board.do_move(move)\n",
    "\n",
    "        x, y = board.move_to_location(move)\n",
    "        x = (5 - x)\n",
    "        ax.plot(y, x, 'o', ms=30, color='w', mec='k', zorder=100, clip_on=False)\n",
    "\n",
    "        tellme(\"The AI's last move: {}, {}, you turn\".format(y,x))\n",
    "\n",
    "        end, winner = board.game_end()\n",
    "        if end:\n",
    "            if winner != -1:\n",
    "                tellme(\"Game over. The AI won\")\n",
    "            else:\n",
    "                tellme(\"Game over. Tie\")\n",
    "\n",
    "if start_player == 1:\n",
    "    tellme(\"The AI is thinking...\")\n",
    "    move = ai.get_action(board)\n",
    "    board.do_move(move)\n",
    "    x, y = board.move_to_location(move)\n",
    "    x = 5 - x\n",
    "    ax.plot(y, x, 'o', ms=30, color='w', mec='k')\n",
    "\n",
    "    tellme(\"AI's last move: {}, {}, you turn\".format(y,x))\n",
    "    \n",
    "cid = fig.canvas.mpl_connect('button_press_event', onclick)"
   ]
  }
 ],
 "metadata": {
  "kernelspec": {
   "display_name": "Python [conda env:zero]",
   "language": "python",
   "name": "conda-env-zero-py"
  },
  "language_info": {
   "codemirror_mode": {
    "name": "ipython",
    "version": 3
   },
   "file_extension": ".py",
   "mimetype": "text/x-python",
   "name": "python",
   "nbconvert_exporter": "python",
   "pygments_lexer": "ipython3",
   "version": "3.6.5"
  }
 },
 "nbformat": 4,
 "nbformat_minor": 2
}
